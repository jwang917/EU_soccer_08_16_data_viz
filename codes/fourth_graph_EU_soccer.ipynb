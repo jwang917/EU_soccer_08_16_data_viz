{
 "cells": [
  {
   "cell_type": "code",
   "execution_count": 1,
   "metadata": {
    "ExecuteTime": {
     "end_time": "2019-05-07T21:25:09.486061Z",
     "start_time": "2019-05-07T21:25:07.570375Z"
    }
   },
   "outputs": [
    {
     "data": {
      "text/html": [
       "        <script type=\"text/javascript\">\n",
       "        window.PlotlyConfig = {MathJaxConfig: 'local'};\n",
       "        if (window.MathJax) {MathJax.Hub.Config({SVG: {font: \"STIX-Web\"}});}\n",
       "        if (typeof require !== 'undefined') {\n",
       "        require.undef(\"plotly\");\n",
       "        requirejs.config({\n",
       "            paths: {\n",
       "                'plotly': ['https://cdn.plot.ly/plotly-latest.min']\n",
       "            }\n",
       "        });\n",
       "        require(['plotly'], function(Plotly) {\n",
       "            window._Plotly = Plotly;\n",
       "        });\n",
       "        }\n",
       "        </script>\n",
       "        "
      ]
     },
     "metadata": {},
     "output_type": "display_data"
    }
   ],
   "source": [
    "import sqlite3\n",
    "import pandas as pd\n",
    "import seaborn as sns\n",
    "import itertools\n",
    "import matplotlib.pyplot as plt\n",
    "import os\n",
    "\n",
    "import plotly.graph_objs as go\n",
    "import sys\n",
    "from plotly.offline import download_plotlyjs, init_notebook_mode, plot, iplot\n",
    "init_notebook_mode(connected=True)"
   ]
  },
  {
   "cell_type": "code",
   "execution_count": 2,
   "metadata": {
    "ExecuteTime": {
     "end_time": "2019-05-07T21:25:12.935889Z",
     "start_time": "2019-05-07T21:25:12.932293Z"
    }
   },
   "outputs": [],
   "source": [
    "# helper function to set up connection to database.\n",
    "def _conn_db(path):\n",
    "    database = os.path.join(path, 'database.sqlite')\n",
    "    conn = sqlite3.connect(database)\n",
    "    return conn\n",
    "# helper function to get the data.\n",
    "def _get_table(query,conn):\n",
    "    df = pd.read_sql(query,conn)\n",
    "    return df"
   ]
  },
  {
   "cell_type": "code",
   "execution_count": 3,
   "metadata": {
    "ExecuteTime": {
     "end_time": "2019-05-07T21:25:20.051858Z",
     "start_time": "2019-05-07T21:25:20.049217Z"
    }
   },
   "outputs": [],
   "source": [
    "path=\".\"\n",
    "conn = _conn_db(path)"
   ]
  },
  {
   "cell_type": "markdown",
   "metadata": {},
   "source": [
    "I am gonna draw a stacked bar plot.  \n",
    "I want to focus on Premier League, and see the composition of goals scored for the all teams over all goals scored in that season.  \n",
    "  \n",
    "Plan: \n",
    "1. get the data.\n",
    "    1. Get the table that contains matches with leagues name.\n",
    "    2. Compute the total goal scored by summing the home team goal and away team goal.\n",
    "    3. Compute each team's goal scored [Unclear!]\n",
    "    4. Make a stacked bar graph.\n",
    "        1. X will be the season name.\n",
    "        2. Y will be each team's goal scored in that season."
   ]
  },
  {
   "cell_type": "code",
   "execution_count": 23,
   "metadata": {
    "ExecuteTime": {
     "end_time": "2019-05-08T01:13:54.045305Z",
     "start_time": "2019-05-08T01:13:53.884180Z"
    }
   },
   "outputs": [],
   "source": [
    "query = \"select r3.name as League_name, r.team_long_name as home_team_name1, \\\n",
    "        r.team_short_name as home_team_name2,r2.team_long_name as away_team_name1, r2.team_short_name as \\\n",
    "        away_team_name2,l.season,l.home_team_goal,l.away_team_goal from Match as l left join Team as r \\\n",
    "        on l.home_team_api_id = r.team_api_id \\\n",
    "        left join Team as r2 \\\n",
    "        on l.away_team_api_id=r2.team_api_id\\\n",
    "        left join League as r3\\\n",
    "        on l.league_id = r3.id;\"\n",
    "match_with_team_name_df = _get_table(query, conn)"
   ]
  },
  {
   "cell_type": "code",
   "execution_count": 31,
   "metadata": {
    "ExecuteTime": {
     "end_time": "2019-05-08T01:16:49.492967Z",
     "start_time": "2019-05-08T01:16:49.488346Z"
    }
   },
   "outputs": [],
   "source": [
    "query = \"select * from League;\"\n",
    "league_df = _get_table(query, conn)\n",
    "league_name = league_df.name"
   ]
  },
  {
   "cell_type": "code",
   "execution_count": 50,
   "metadata": {
    "ExecuteTime": {
     "end_time": "2019-05-08T01:23:31.000271Z",
     "start_time": "2019-05-08T01:23:30.996204Z"
    }
   },
   "outputs": [
    {
     "data": {
      "text/plain": [
       "'England Premier League'"
      ]
     },
     "execution_count": 50,
     "metadata": {},
     "output_type": "execute_result"
    }
   ],
   "source": [
    "season_ls = [\"2008/2009\",\"2009/2010\",\"2010/2011\",\"2011/2012\",\"2012/2013\",\"2013/2014\",\"2014/2015\",\"2015/2016\"]\n",
    "league_name[1]"
   ]
  },
  {
   "cell_type": "code",
   "execution_count": 113,
   "metadata": {
    "ExecuteTime": {
     "end_time": "2019-05-08T01:44:17.051428Z",
     "start_time": "2019-05-08T01:44:17.046350Z"
    }
   },
   "outputs": [],
   "source": [
    "def _get_league_score_on_year(league_name, season):\n",
    "    \"\"\"Get the specified leagues's total games on certain season.\"\"\" \n",
    "    # get table with team name along with home goal and away goal.\n",
    "    query = \"select r3.name as League_name, r.team_long_name as home_team_name1, \\\n",
    "        r.team_short_name as home_team_name2,r2.team_long_name as away_team_name1, r2.team_short_name as \\\n",
    "        away_team_name2,l.season,l.home_team_goal,l.away_team_goal from Match as l left join Team as r \\\n",
    "        on l.home_team_api_id = r.team_api_id \\\n",
    "        left join Team as r2 \\\n",
    "        on l.away_team_api_id=r2.team_api_id\\\n",
    "        left join League as r3\\\n",
    "        on l.league_id = r3.id;\"\n",
    "    df = _get_table(query, conn)\n",
    "    # get all matches in one season for one league.\n",
    "    res_df = df[(df.League_name == league_name) & (df.season == season)]\n",
    "    # get all goals scored in home and away team.\n",
    "    all_goals = [sum(res_df.home_team_goal),sum(res_df.away_team_goal)]\n",
    "    # get individual teams goal\n",
    "    teams_goals_df = res_df.groupby(by = \"home_team_name1\").sum()[[\"home_team_goal\",\"away_team_goal\"]]\n",
    "    teams_goals_df[\"tot_goals\"] = teams_goals_df.home_team_goal + teams_goals_df.away_team_goal\n",
    "    top_4_home_teams = teams_goals_df.sort_values(by=\"tot_goals\",ascending=False).head(4)\n",
    "    return top_4_home_teams"
   ]
  },
  {
   "cell_type": "code",
   "execution_count": 114,
   "metadata": {
    "ExecuteTime": {
     "end_time": "2019-05-08T01:44:18.667721Z",
     "start_time": "2019-05-08T01:44:18.482409Z"
    }
   },
   "outputs": [],
   "source": [
    "df = _get_league_score_on_year(league_name[1], season_ls[7])"
   ]
  },
  {
   "cell_type": "markdown",
   "metadata": {},
   "source": [
    "To draw the top four best home team's goals scored over the years. And their away games' goal scored for years over 2008/2009 to 2015/2016."
   ]
  },
  {
   "cell_type": "code",
   "execution_count": 133,
   "metadata": {
    "ExecuteTime": {
     "end_time": "2019-05-08T01:53:57.557515Z",
     "start_time": "2019-05-08T01:53:57.551813Z"
    }
   },
   "outputs": [],
   "source": [
    "def _plot_top_attact_team(league_name):\n",
    "    \"\"\"\n",
    "    Get the plot for each leagues' top 4 attacking teams goals stat over the years.\n",
    "    param:\n",
    "        league_name: the name of the league.\n",
    "    return:\n",
    "        fig: object to draw.\n",
    "    \"\"\"\n",
    "    data = []\n",
    "    # build up traces.\n",
    "    for season in season_ls:\n",
    "        # get the data\n",
    "        df = _get_league_score_on_year(league_name, season)\n",
    "        trace = go.Bar(\n",
    "                x=df.index.values,\n",
    "                y=(df.home_team_goal + df.away_team_goal).values,\n",
    "                name=season\n",
    "                )\n",
    "        data.append(trace)\n",
    "        \n",
    "        layout = go.Layout(\n",
    "        barmode='stack',\n",
    "        title=\"Top 4 Attacking Teams On Each Season in {}\".format(league_name),\n",
    "        xaxis=dict(\n",
    "            title='Team Name',\n",
    "            titlefont=dict(\n",
    "                family='Old Standard TT, serif',\n",
    "                size=14,\n",
    "                color='black'\n",
    "            )\n",
    "        ),\n",
    "        yaxis=dict(\n",
    "            title='Number of Goals',\n",
    "            titlefont=dict(\n",
    "                family='Old Standard TT, serif',\n",
    "                size=18,\n",
    "                color='black'\n",
    "            )\n",
    "        )\n",
    "    )\n",
    "\n",
    "    fig = go.Figure(data=data, layout=layout)\n",
    "    return fig"
   ]
  },
  {
   "cell_type": "code",
   "execution_count": 140,
   "metadata": {
    "ExecuteTime": {
     "end_time": "2019-05-08T01:54:37.596221Z",
     "start_time": "2019-05-08T01:54:35.987338Z"
    }
   },
   "outputs": [],
   "source": [
    "fig = _plot_top_attact_team(league_name[7])"
   ]
  },
  {
   "cell_type": "code",
   "execution_count": 141,
   "metadata": {
    "ExecuteTime": {
     "end_time": "2019-05-08T01:54:37.725982Z",
     "start_time": "2019-05-08T01:54:37.597469Z"
    }
   },
   "outputs": [
    {
     "data": {
      "application/vnd.plotly.v1+json": {
       "config": {
        "linkText": "Export to plot.ly",
        "plotlyServerURL": "https://plot.ly",
        "responsive": true,
        "showLink": false
       },
       "data": [
        {
         "name": "2008/2009",
         "type": "bar",
         "uid": "46ff86dc-0907-4ba7-84e7-6414d6d6de10",
         "x": [
          "Sporting CP",
          "CF Os Belenenses",
          "CS Marítimo",
          "CD Nacional"
         ],
         "y": [
          42,
          41,
          40,
          38
         ]
        },
        {
         "name": "2009/2010",
         "type": "bar",
         "uid": "34c0dae5-bd90-4438-9a0a-0c640c2e2dbe",
         "x": [
          "FC Porto",
          "SL Benfica",
          "CS Marítimo",
          "Leixões SC"
         ],
         "y": [
          53,
          52,
          42,
          41
         ]
        },
        {
         "name": "2010/2011",
         "type": "bar",
         "uid": "1242784d-032f-4187-bc18-d5fabd867b95",
         "x": [
          "FC Porto",
          "SL Benfica",
          "FC Paços de Ferreira",
          "SC Braga"
         ],
         "y": [
          54,
          50,
          43,
          43
         ]
        },
        {
         "name": "2011/2012",
         "type": "bar",
         "uid": "11a4ebf7-e50b-4ddb-9324-e49c9d714cb9",
         "x": [
          "SL Benfica",
          "CD Nacional",
          "FC Porto",
          "FC Paços de Ferreira"
         ],
         "y": [
          59,
          47,
          47,
          46
         ]
        },
        {
         "name": "2012/2013",
         "type": "bar",
         "uid": "b02dcf41-5c1e-4cb3-b8cf-37781d02a5dd",
         "x": [
          "SC Braga",
          "CD Nacional",
          "SL Benfica",
          "Académica de Coimbra"
         ],
         "y": [
          57,
          51,
          51,
          49
         ]
        },
        {
         "name": "2013/2014",
         "type": "bar",
         "uid": "734e28cb-76b5-4976-93e6-865382ef2978",
         "x": [
          "CS Marítimo",
          "FC Paços de Ferreira",
          "SC Braga",
          "Vitória Setúbal"
         ],
         "y": [
          46,
          44,
          44,
          44
         ]
        },
        {
         "name": "2014/2015",
         "type": "bar",
         "uid": "6a250a33-0155-4e80-91de-b936820636a0",
         "x": [
          "FC Penafiel",
          "SL Benfica",
          "Sporting CP",
          "FC Paços de Ferreira"
         ],
         "y": [
          54,
          53,
          52,
          48
         ]
        },
        {
         "name": "2015/2016",
         "type": "bar",
         "uid": "fe4fb54c-8d65-45d3-ba97-b8f360923a9f",
         "x": [
          "SL Benfica",
          "SC Braga",
          "CF Os Belenenses",
          "CD Nacional"
         ],
         "y": [
          65,
          58,
          55,
          53
         ]
        }
       ],
       "layout": {
        "barmode": "stack",
        "title": {
         "text": "Top 4 Attacking Teams On Each Season in Portugal Liga ZON Sagres"
        },
        "xaxis": {
         "title": {
          "font": {
           "color": "black",
           "family": "Old Standard TT, serif",
           "size": 14
          },
          "text": "Team Name"
         }
        },
        "yaxis": {
         "title": {
          "font": {
           "color": "black",
           "family": "Old Standard TT, serif",
           "size": 18
          },
          "text": "Number of Goals"
         }
        }
       }
      },
      "text/html": [
       "<div>\n",
       "        \n",
       "        \n",
       "            <div id=\"f2388e18-a684-4a22-bf72-97d09eacddb7\" class=\"plotly-graph-div\" style=\"height:525px; width:100%;\"></div>\n",
       "            <script type=\"text/javascript\">\n",
       "                require([\"plotly\"], function(Plotly) {\n",
       "                    window.PLOTLYENV=window.PLOTLYENV || {};\n",
       "                    window.PLOTLYENV.BASE_URL='https://plot.ly';\n",
       "                    \n",
       "                if (document.getElementById(\"f2388e18-a684-4a22-bf72-97d09eacddb7\")) {\n",
       "                    Plotly.newPlot(\n",
       "                        'f2388e18-a684-4a22-bf72-97d09eacddb7',\n",
       "                        [{\"name\": \"2008/2009\", \"type\": \"bar\", \"uid\": \"13a8187d-a9aa-4c89-9e58-54f1e79992c9\", \"x\": [\"Sporting CP\", \"CF Os Belenenses\", \"CS Mar\\u00edtimo\", \"CD Nacional\"], \"y\": [42, 41, 40, 38]}, {\"name\": \"2009/2010\", \"type\": \"bar\", \"uid\": \"28a115e3-438d-4b44-b3dd-315b13c1ca8f\", \"x\": [\"FC Porto\", \"SL Benfica\", \"CS Mar\\u00edtimo\", \"Leix\\u00f5es SC\"], \"y\": [53, 52, 42, 41]}, {\"name\": \"2010/2011\", \"type\": \"bar\", \"uid\": \"b73d3f56-1a7f-4de9-af32-bba41840296a\", \"x\": [\"FC Porto\", \"SL Benfica\", \"FC Pa\\u00e7os de Ferreira\", \"SC Braga\"], \"y\": [54, 50, 43, 43]}, {\"name\": \"2011/2012\", \"type\": \"bar\", \"uid\": \"79fbd81b-f5bd-40d5-8876-e23d9a40a747\", \"x\": [\"SL Benfica\", \"CD Nacional\", \"FC Porto\", \"FC Pa\\u00e7os de Ferreira\"], \"y\": [59, 47, 47, 46]}, {\"name\": \"2012/2013\", \"type\": \"bar\", \"uid\": \"08f420a8-b52a-43bf-aabd-06671b9a91cc\", \"x\": [\"SC Braga\", \"CD Nacional\", \"SL Benfica\", \"Acad\\u00e9mica de Coimbra\"], \"y\": [57, 51, 51, 49]}, {\"name\": \"2013/2014\", \"type\": \"bar\", \"uid\": \"75425415-eebc-494a-b62d-da650aed40d7\", \"x\": [\"CS Mar\\u00edtimo\", \"FC Pa\\u00e7os de Ferreira\", \"SC Braga\", \"Vit\\u00f3ria Set\\u00fabal\"], \"y\": [46, 44, 44, 44]}, {\"name\": \"2014/2015\", \"type\": \"bar\", \"uid\": \"319c4c51-49c8-4688-9d0d-496222589888\", \"x\": [\"FC Penafiel\", \"SL Benfica\", \"Sporting CP\", \"FC Pa\\u00e7os de Ferreira\"], \"y\": [54, 53, 52, 48]}, {\"name\": \"2015/2016\", \"type\": \"bar\", \"uid\": \"ec62d03d-3075-42a8-81d5-af2a00f27975\", \"x\": [\"SL Benfica\", \"SC Braga\", \"CF Os Belenenses\", \"CD Nacional\"], \"y\": [65, 58, 55, 53]}],\n",
       "                        {\"barmode\": \"stack\", \"title\": {\"text\": \"Top 4 Attacking Teams On Each Season in Portugal Liga ZON Sagres\"}, \"xaxis\": {\"title\": {\"font\": {\"color\": \"black\", \"family\": \"Old Standard TT, serif\", \"size\": 14}, \"text\": \"Team Name\"}}, \"yaxis\": {\"title\": {\"font\": {\"color\": \"black\", \"family\": \"Old Standard TT, serif\", \"size\": 18}, \"text\": \"Number of Goals\"}}},\n",
       "                        {\"showLink\": false, \"linkText\": \"Export to plot.ly\", \"plotlyServerURL\": \"https://plot.ly\", \"responsive\": true}\n",
       "                    ).then(function(){\n",
       "                            \n",
       "var gd = document.getElementById('f2388e18-a684-4a22-bf72-97d09eacddb7');\n",
       "var x = new MutationObserver(function (mutations, observer) {{\n",
       "        var display = window.getComputedStyle(gd).display;\n",
       "        if (!display || display === 'none') {{\n",
       "            console.log([gd, 'removed!']);\n",
       "            Plotly.purge(gd);\n",
       "            observer.disconnect();\n",
       "        }}\n",
       "}});\n",
       "\n",
       "// Listen for the removal of the full notebook cells\n",
       "var notebookContainer = gd.closest('#notebook-container');\n",
       "if (notebookContainer) {{\n",
       "    x.observe(notebookContainer, {childList: true});\n",
       "}}\n",
       "\n",
       "// Listen for the clearing of the current output cell\n",
       "var outputEl = gd.closest('.output');\n",
       "if (outputEl) {{\n",
       "    x.observe(outputEl, {childList: true});\n",
       "}}\n",
       "\n",
       "                        })\n",
       "                };\n",
       "                });\n",
       "            </script>\n",
       "        </div>"
      ]
     },
     "metadata": {},
     "output_type": "display_data"
    }
   ],
   "source": [
    "iplot(fig)"
   ]
  },
  {
   "cell_type": "code",
   "execution_count": 142,
   "metadata": {
    "ExecuteTime": {
     "end_time": "2019-05-08T01:57:19.640552Z",
     "start_time": "2019-05-08T01:57:00.638160Z"
    }
   },
   "outputs": [],
   "source": [
    "# make html file.\n",
    "html_doc = '''<!DOCTYPE html>\n",
    "<html>\n",
    "<head>\n",
    "  <script src=\"https://cdn.plot.ly/plotly-latest.min.js\"></script>\n",
    "</head>\n",
    "\n",
    "<div>\n",
    "     <div style=\"display:flex\">\n",
    "     <h2><font color=\"black\">EU Soccer Top Attacking Teams on Each League Goals Scored Info.</font></h2>\n",
    "     </div>\n",
    "</div>\n",
    "'''\n",
    "\n",
    "div_ls = []\n",
    "for i in league_name:\n",
    "    fig = _plot_top_attact_team(i)\n",
    "    _div = plot(fig, include_plotlyjs=False, output_type='div')\n",
    "    html_doc += '''<h5><a id=\"1\"></a>%(_div_title)s</h5> \n",
    "                      %(div)s\n",
    "                ''' % {'div':_div, '_div_title':i+\"'s Goal Scored Stat.\"}\n",
    "    \n",
    "html_doc += '''<hr>'''\n",
    "html_doc +='''</body>\n",
    "                  </html>'''\n"
   ]
  },
  {
   "cell_type": "code",
   "execution_count": 143,
   "metadata": {
    "ExecuteTime": {
     "end_time": "2019-05-08T01:57:23.734045Z",
     "start_time": "2019-05-08T01:57:23.730767Z"
    }
   },
   "outputs": [],
   "source": [
    "with open('EU_soccer_team_scores.html', 'w') as f:\n",
    "    f.write(html_doc)"
   ]
  },
  {
   "cell_type": "code",
   "execution_count": 144,
   "metadata": {
    "ExecuteTime": {
     "end_time": "2019-05-08T01:57:30.152844Z",
     "start_time": "2019-05-08T01:57:29.942400Z"
    }
   },
   "outputs": [],
   "source": [
    "!open EU_soccer_team_scores.html"
   ]
  }
 ],
 "metadata": {
  "kernelspec": {
   "display_name": "Python 3",
   "language": "python",
   "name": "python3"
  },
  "language_info": {
   "codemirror_mode": {
    "name": "ipython",
    "version": 3
   },
   "file_extension": ".py",
   "mimetype": "text/x-python",
   "name": "python",
   "nbconvert_exporter": "python",
   "pygments_lexer": "ipython3",
   "version": "3.6.8"
  }
 },
 "nbformat": 4,
 "nbformat_minor": 2
}
