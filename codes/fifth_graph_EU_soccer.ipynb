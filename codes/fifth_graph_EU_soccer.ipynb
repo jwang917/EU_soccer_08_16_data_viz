{
 "cells": [
  {
   "cell_type": "markdown",
   "metadata": {},
   "source": [
    "Draw a connection map on teams playes against opponents from another league.  \n",
    "1. Collect the data for matches happen between two teams with different league.\n",
    "2. Make a plot about connection map that use the link as team play against."
   ]
  },
  {
   "cell_type": "code",
   "execution_count": 1,
   "metadata": {
    "ExecuteTime": {
     "end_time": "2019-05-15T04:13:58.494823Z",
     "start_time": "2019-05-15T04:13:55.728418Z"
    }
   },
   "outputs": [
    {
     "data": {
      "text/html": [
       "        <script type=\"text/javascript\">\n",
       "        window.PlotlyConfig = {MathJaxConfig: 'local'};\n",
       "        if (window.MathJax) {MathJax.Hub.Config({SVG: {font: \"STIX-Web\"}});}\n",
       "        if (typeof require !== 'undefined') {\n",
       "        require.undef(\"plotly\");\n",
       "        requirejs.config({\n",
       "            paths: {\n",
       "                'plotly': ['https://cdn.plot.ly/plotly-latest.min']\n",
       "            }\n",
       "        });\n",
       "        require(['plotly'], function(Plotly) {\n",
       "            window._Plotly = Plotly;\n",
       "        });\n",
       "        }\n",
       "        </script>\n",
       "        "
      ]
     },
     "metadata": {},
     "output_type": "display_data"
    }
   ],
   "source": [
    "import sqlite3\n",
    "import pandas as pd\n",
    "import seaborn as sns\n",
    "import itertools\n",
    "import matplotlib.pyplot as plt\n",
    "import os\n",
    "\n",
    "import plotly.graph_objs as go\n",
    "import sys\n",
    "from plotly.offline import download_plotlyjs, init_notebook_mode, plot, iplot\n",
    "init_notebook_mode(connected=True)"
   ]
  },
  {
   "cell_type": "code",
   "execution_count": 2,
   "metadata": {
    "ExecuteTime": {
     "end_time": "2019-05-15T04:13:58.499723Z",
     "start_time": "2019-05-15T04:13:58.496546Z"
    }
   },
   "outputs": [],
   "source": [
    "# helper function to set up connection to database.\n",
    "def _conn_db(path):\n",
    "    database = os.path.join(path, 'database.sqlite')\n",
    "    conn = sqlite3.connect(database)\n",
    "    return conn\n",
    "# helper function to get the data.\n",
    "def _get_table(query,conn):\n",
    "    df = pd.read_sql(query,conn)\n",
    "    return df"
   ]
  },
  {
   "cell_type": "code",
   "execution_count": 3,
   "metadata": {
    "ExecuteTime": {
     "end_time": "2019-05-15T04:14:03.435308Z",
     "start_time": "2019-05-15T04:14:03.432017Z"
    }
   },
   "outputs": [],
   "source": [
    "path=\"..\"\n",
    "conn = _conn_db(path)"
   ]
  },
  {
   "cell_type": "code",
   "execution_count": 4,
   "metadata": {
    "ExecuteTime": {
     "end_time": "2019-05-15T04:14:09.547531Z",
     "start_time": "2019-05-15T04:14:05.451400Z"
    }
   },
   "outputs": [],
   "source": [
    "query = \"select r3.name as League_name, r.team_long_name as home_team_name1, \\\n",
    "        r.team_short_name as home_team_name2,r2.team_long_name as away_team_name1, r2.team_short_name as \\\n",
    "        away_team_name2,l.season,l.home_team_goal,l.away_team_goal,l.foulcommit,l.possession,l.cross from Match as l left join Team as r \\\n",
    "        on l.home_team_api_id = r.team_api_id \\\n",
    "        left join Team as r2 \\\n",
    "        on l.away_team_api_id=r2.team_api_id\\\n",
    "        left join League as r3\\\n",
    "        on l.league_id = r3.id;\"\n",
    "df = _get_table(query, conn)"
   ]
  },
  {
   "cell_type": "code",
   "execution_count": 6,
   "metadata": {
    "ExecuteTime": {
     "end_time": "2019-05-15T16:43:15.181494Z",
     "start_time": "2019-05-15T16:43:15.167569Z"
    }
   },
   "outputs": [
    {
     "data": {
      "text/html": [
       "<div>\n",
       "<style scoped>\n",
       "    .dataframe tbody tr th:only-of-type {\n",
       "        vertical-align: middle;\n",
       "    }\n",
       "\n",
       "    .dataframe tbody tr th {\n",
       "        vertical-align: top;\n",
       "    }\n",
       "\n",
       "    .dataframe thead th {\n",
       "        text-align: right;\n",
       "    }\n",
       "</style>\n",
       "<table border=\"1\" class=\"dataframe\">\n",
       "  <thead>\n",
       "    <tr style=\"text-align: right;\">\n",
       "      <th></th>\n",
       "      <th>League_name</th>\n",
       "      <th>home_team_name1</th>\n",
       "      <th>home_team_name2</th>\n",
       "      <th>away_team_name1</th>\n",
       "      <th>away_team_name2</th>\n",
       "      <th>season</th>\n",
       "      <th>home_team_goal</th>\n",
       "      <th>away_team_goal</th>\n",
       "      <th>foulcommit</th>\n",
       "      <th>possession</th>\n",
       "      <th>cross</th>\n",
       "    </tr>\n",
       "  </thead>\n",
       "  <tbody>\n",
       "    <tr>\n",
       "      <th>0</th>\n",
       "      <td>Belgium Jupiler League</td>\n",
       "      <td>KRC Genk</td>\n",
       "      <td>GEN</td>\n",
       "      <td>Beerschot AC</td>\n",
       "      <td>BAC</td>\n",
       "      <td>2008/2009</td>\n",
       "      <td>1</td>\n",
       "      <td>1</td>\n",
       "      <td>None</td>\n",
       "      <td>None</td>\n",
       "      <td>None</td>\n",
       "    </tr>\n",
       "    <tr>\n",
       "      <th>1</th>\n",
       "      <td>Belgium Jupiler League</td>\n",
       "      <td>SV Zulte-Waregem</td>\n",
       "      <td>ZUL</td>\n",
       "      <td>Sporting Lokeren</td>\n",
       "      <td>LOK</td>\n",
       "      <td>2008/2009</td>\n",
       "      <td>0</td>\n",
       "      <td>0</td>\n",
       "      <td>None</td>\n",
       "      <td>None</td>\n",
       "      <td>None</td>\n",
       "    </tr>\n",
       "    <tr>\n",
       "      <th>2</th>\n",
       "      <td>Belgium Jupiler League</td>\n",
       "      <td>KSV Cercle Brugge</td>\n",
       "      <td>CEB</td>\n",
       "      <td>RSC Anderlecht</td>\n",
       "      <td>AND</td>\n",
       "      <td>2008/2009</td>\n",
       "      <td>0</td>\n",
       "      <td>3</td>\n",
       "      <td>None</td>\n",
       "      <td>None</td>\n",
       "      <td>None</td>\n",
       "    </tr>\n",
       "    <tr>\n",
       "      <th>3</th>\n",
       "      <td>Belgium Jupiler League</td>\n",
       "      <td>KAA Gent</td>\n",
       "      <td>GEN</td>\n",
       "      <td>RAEC Mons</td>\n",
       "      <td>MON</td>\n",
       "      <td>2008/2009</td>\n",
       "      <td>5</td>\n",
       "      <td>0</td>\n",
       "      <td>None</td>\n",
       "      <td>None</td>\n",
       "      <td>None</td>\n",
       "    </tr>\n",
       "    <tr>\n",
       "      <th>4</th>\n",
       "      <td>Belgium Jupiler League</td>\n",
       "      <td>FCV Dender EH</td>\n",
       "      <td>DEN</td>\n",
       "      <td>Standard de Liège</td>\n",
       "      <td>STL</td>\n",
       "      <td>2008/2009</td>\n",
       "      <td>1</td>\n",
       "      <td>3</td>\n",
       "      <td>None</td>\n",
       "      <td>None</td>\n",
       "      <td>None</td>\n",
       "    </tr>\n",
       "  </tbody>\n",
       "</table>\n",
       "</div>"
      ],
      "text/plain": [
       "              League_name    home_team_name1 home_team_name2  \\\n",
       "0  Belgium Jupiler League           KRC Genk             GEN   \n",
       "1  Belgium Jupiler League   SV Zulte-Waregem             ZUL   \n",
       "2  Belgium Jupiler League  KSV Cercle Brugge             CEB   \n",
       "3  Belgium Jupiler League           KAA Gent             GEN   \n",
       "4  Belgium Jupiler League      FCV Dender EH             DEN   \n",
       "\n",
       "     away_team_name1 away_team_name2     season  home_team_goal  \\\n",
       "0       Beerschot AC             BAC  2008/2009               1   \n",
       "1   Sporting Lokeren             LOK  2008/2009               0   \n",
       "2     RSC Anderlecht             AND  2008/2009               0   \n",
       "3          RAEC Mons             MON  2008/2009               5   \n",
       "4  Standard de Liège             STL  2008/2009               1   \n",
       "\n",
       "   away_team_goal foulcommit possession cross  \n",
       "0               1       None       None  None  \n",
       "1               0       None       None  None  \n",
       "2               3       None       None  None  \n",
       "3               0       None       None  None  \n",
       "4               3       None       None  None  "
      ]
     },
     "execution_count": 6,
     "metadata": {},
     "output_type": "execute_result"
    }
   ],
   "source": [
    "df.head()"
   ]
  },
  {
   "cell_type": "code",
   "execution_count": 31,
   "metadata": {
    "ExecuteTime": {
     "end_time": "2019-05-11T15:58:52.124013Z",
     "start_time": "2019-05-11T15:58:52.104940Z"
    }
   },
   "outputs": [],
   "source": [
    "df[\"Country\"] = df[\"League_name\"].apply(lambda cell: cell.split(\" \")[0])"
   ]
  },
  {
   "cell_type": "code",
   "execution_count": 32,
   "metadata": {
    "ExecuteTime": {
     "end_time": "2019-05-11T15:58:56.401584Z",
     "start_time": "2019-05-11T15:58:53.864790Z"
    }
   },
   "outputs": [],
   "source": [
    "df.to_csv(\"EU_soccer_match_info.csv\",header=True)"
   ]
  },
  {
   "cell_type": "code",
   "execution_count": 50,
   "metadata": {
    "ExecuteTime": {
     "end_time": "2019-05-11T16:22:30.143943Z",
     "start_time": "2019-05-11T16:22:30.114642Z"
    }
   },
   "outputs": [],
   "source": [
    "# heatmap\n",
    "query = \"select * from Team_Attributes;\"\n",
    "team_att_df = _get_table(query,conn)"
   ]
  },
  {
   "cell_type": "code",
   "execution_count": 52,
   "metadata": {
    "ExecuteTime": {
     "end_time": "2019-05-11T16:22:56.692495Z",
     "start_time": "2019-05-11T16:22:56.665661Z"
    }
   },
   "outputs": [],
   "source": [
    "team_att_df.to_csv(\"FIFA_team_att.csv\",header=True)"
   ]
  },
  {
   "cell_type": "markdown",
   "metadata": {},
   "source": [
    "goals within a year in terms of leagues, teams. Done in Tableau.  \n",
    "  \n",
    "Make a plot on the FIFA's team attributes and the team's actual offensive and defensive performance. The data for offense and defense can be collected from Team Attributes. And we pair them with the actual goal scored in last 3 years."
   ]
  },
  {
   "cell_type": "code",
   "execution_count": 150,
   "metadata": {
    "ExecuteTime": {
     "end_time": "2019-05-12T18:56:41.434565Z",
     "start_time": "2019-05-12T18:56:41.429505Z"
    }
   },
   "outputs": [],
   "source": [
    "def _team_FIFA_match(team,conn,season=\"'2015/2016'\"):\n",
    "    \"\"\"\n",
    "    Get the team attributes for either home team or away team combined with match informations\n",
    "    to assess how well a team's play and its relationship with team build up play.\n",
    "    param:\n",
    "        team: the name on team type, either 'home' or 'away'\n",
    "        conn: to build up connection\n",
    "    return: \n",
    "        df: a dataframe that grouped by league name and team name.\n",
    "    \"\"\"\n",
    "    team_df = _get_table(\"select * from Team_Attributes;\",conn)\n",
    "    offensive_team_atts = [i  for i in team_df.columns.values if 'Class' not in i][4:10]\n",
    "    team_att_str = \", r2.\".join(offensive_team_atts)\n",
    "    query = \"select r3.name as League_name,l.country_id, l.league_id, l.season, l.home_team_api_id, l.away_team_api_id,\\\n",
    "        l.home_team_goal, l.away_team_goal, r.team_long_name as home_team_name1,{}\\\n",
    "        from Match as l left join Team as r\\\n",
    "        on l.{}_team_api_id = r.team_api_id \\\n",
    "        left join Team_Attributes as r2 on r2.team_api_id = l.{}_team_api_id\\\n",
    "        left join League as r3 on l.league_id = r3.id\\\n",
    "        where (l.season = {});\".format(\" r2.\"+team_att_str,team,team,season)\n",
    "    team_att_match_df = _get_table(query,conn)\n",
    "    # get the perteam attributes\n",
    "    df = team_att_match_df.groupby(by=[\"League_name\", \"home_team_name1\"]).mean()\n",
    "    home_team_info = df.drop(columns=[\"country_id\",\"league_id\",\"home_team_api_id\",\"away_team_api_id\"])\n",
    "    return home_team_info"
   ]
  },
  {
   "cell_type": "code",
   "execution_count": 153,
   "metadata": {
    "ExecuteTime": {
     "end_time": "2019-05-12T18:57:18.109974Z",
     "start_time": "2019-05-12T18:57:17.924868Z"
    }
   },
   "outputs": [],
   "source": [
    "_team_FIFA_match('away',conn).to_csv(\"away_team.csv\",header=True)"
   ]
  },
  {
   "cell_type": "code",
   "execution_count": 155,
   "metadata": {
    "ExecuteTime": {
     "end_time": "2019-05-12T18:58:21.007915Z",
     "start_time": "2019-05-12T18:58:20.826749Z"
    }
   },
   "outputs": [],
   "source": [
    "_team_FIFA_match('home',conn).to_csv(\"home_team.csv\",header=True)"
   ]
  },
  {
   "cell_type": "code",
   "execution_count": 156,
   "metadata": {
    "ExecuteTime": {
     "end_time": "2019-05-12T18:58:31.351052Z",
     "start_time": "2019-05-12T18:58:31.167082Z"
    }
   },
   "outputs": [],
   "source": [
    "!open home_team.csv"
   ]
  },
  {
   "cell_type": "code",
   "execution_count": null,
   "metadata": {},
   "outputs": [],
   "source": []
  }
 ],
 "metadata": {
  "kernelspec": {
   "display_name": "Python 3",
   "language": "python",
   "name": "python3"
  },
  "language_info": {
   "codemirror_mode": {
    "name": "ipython",
    "version": 3
   },
   "file_extension": ".py",
   "mimetype": "text/x-python",
   "name": "python",
   "nbconvert_exporter": "python",
   "pygments_lexer": "ipython3",
   "version": "3.6.8"
  }
 },
 "nbformat": 4,
 "nbformat_minor": 2
}
