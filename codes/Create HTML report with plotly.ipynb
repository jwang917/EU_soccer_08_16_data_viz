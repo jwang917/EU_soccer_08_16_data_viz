{
 "cells": [
  {
   "cell_type": "code",
   "execution_count": 1,
   "metadata": {},
   "outputs": [
    {
     "name": "stdout",
     "output_type": "stream",
     "text": [
      "\u001b[33mDEPRECATION: Python 2.7 will reach the end of its life on January 1st, 2020. Please upgrade your Python as Python 2.7 won't be maintained after that date. A future version of pip will drop support for Python 2.7.\u001b[0m\n",
      "Requirement already satisfied: plotly in /usr/local/lib/python2.7/site-packages (3.7.1)\n",
      "Requirement already satisfied: nbformat>=4.2 in /usr/local/lib/python2.7/site-packages (from plotly) (4.4.0)\n",
      "Requirement already satisfied: pytz in /usr/local/lib/python2.7/site-packages/pytz-2018.9-py2.7.egg (from plotly) (2018.9)\n",
      "Requirement already satisfied: retrying>=1.3.3 in /usr/local/lib/python2.7/site-packages (from plotly) (1.3.3)\n",
      "Requirement already satisfied: six in /usr/local/lib/python2.7/site-packages (from plotly) (1.10.0)\n",
      "Requirement already satisfied: decorator>=4.0.6 in /usr/local/lib/python2.7/site-packages (from plotly) (4.4.0)\n",
      "Requirement already satisfied: requests in /usr/lib/python2.7/dist-packages (from plotly) (2.4.3)\n",
      "Requirement already satisfied: jupyter-core in /usr/local/lib/python2.7/site-packages (from nbformat>=4.2->plotly) (4.4.0)\n",
      "Requirement already satisfied: ipython-genutils in /usr/local/lib/python2.7/site-packages (from nbformat>=4.2->plotly) (0.2.0)\n",
      "Requirement already satisfied: traitlets>=4.1 in /usr/local/lib/python2.7/site-packages (from nbformat>=4.2->plotly) (4.3.2)\n",
      "Requirement already satisfied: jsonschema!=2.5.0,>=2.4 in /usr/local/lib/python2.7/site-packages (from nbformat>=4.2->plotly) (3.0.1)\n",
      "Requirement already satisfied: enum34; python_version == \"2.7\" in /usr/local/lib/python2.7/site-packages (from traitlets>=4.1->nbformat>=4.2->plotly) (1.1.6)\n",
      "Requirement already satisfied: attrs>=17.4.0 in /usr/local/lib/python2.7/site-packages (from jsonschema!=2.5.0,>=2.4->nbformat>=4.2->plotly) (19.1.0)\n",
      "Requirement already satisfied: functools32; python_version < \"3\" in /usr/local/lib/python2.7/site-packages (from jsonschema!=2.5.0,>=2.4->nbformat>=4.2->plotly) (3.2.3.post2)\n",
      "Requirement already satisfied: setuptools in /usr/local/lib/python2.7/site-packages (from jsonschema!=2.5.0,>=2.4->nbformat>=4.2->plotly) (40.8.0)\n",
      "Requirement already satisfied: pyrsistent>=0.14.0 in /usr/local/lib/python2.7/site-packages (from jsonschema!=2.5.0,>=2.4->nbformat>=4.2->plotly) (0.14.11)\n",
      "\u001b[33mYou are using pip version 19.0.3, however version 19.1 is available.\n",
      "You should consider upgrading via the 'pip install --upgrade pip' command.\u001b[0m\n"
     ]
    }
   ],
   "source": [
    "!pip install plotly"
   ]
  },
  {
   "cell_type": "code",
   "execution_count": 2,
   "metadata": {},
   "outputs": [],
   "source": [
    "from plotly.offline import download_plotlyjs, init_notebook_mode, plot, iplot\n",
    "import plotly.graph_objs as go"
   ]
  },
  {
   "cell_type": "markdown",
   "metadata": {},
   "source": [
    "### This cell is needed for display in notebook"
   ]
  },
  {
   "cell_type": "code",
   "execution_count": 3,
   "metadata": {},
   "outputs": [
    {
     "data": {
      "text/html": [
       "<script type=\"text/javascript\">window.PlotlyConfig = {MathJaxConfig: 'local'};</script><script type=\"text/javascript\">if (window.MathJax) {MathJax.Hub.Config({SVG: {font: \"STIX-Web\"}});}</script><script>requirejs.config({paths: { 'plotly': ['https://cdn.plot.ly/plotly-latest.min']},});if(!window._Plotly) {require(['plotly'],function(plotly) {window._Plotly=plotly;});}</script>"
      ],
      "text/vnd.plotly.v1+html": [
       "<script type=\"text/javascript\">window.PlotlyConfig = {MathJaxConfig: 'local'};</script><script type=\"text/javascript\">if (window.MathJax) {MathJax.Hub.Config({SVG: {font: \"STIX-Web\"}});}</script><script>requirejs.config({paths: { 'plotly': ['https://cdn.plot.ly/plotly-latest.min']},});if(!window._Plotly) {require(['plotly'],function(plotly) {window._Plotly=plotly;});}</script>"
      ]
     },
     "metadata": {},
     "output_type": "display_data"
    }
   ],
   "source": [
    "init_notebook_mode(connected=True)"
   ]
  },
  {
   "cell_type": "markdown",
   "metadata": {},
   "source": [
    "### Load the data"
   ]
  },
  {
   "cell_type": "code",
   "execution_count": 4,
   "metadata": {},
   "outputs": [
    {
     "ename": "NameError",
     "evalue": "name 'pd' is not defined",
     "output_type": "error",
     "traceback": [
      "\u001b[0;31m---------------------------------------------------------------------------\u001b[0m",
      "\u001b[0;31mNameError\u001b[0m                                 Traceback (most recent call last)",
      "\u001b[0;32m<ipython-input-4-4bcf206b0f3b>\u001b[0m in \u001b[0;36m<module>\u001b[0;34m()\u001b[0m\n\u001b[0;32m----> 1\u001b[0;31m \u001b[0mccwa_df\u001b[0m \u001b[0;34m=\u001b[0m \u001b[0mpd\u001b[0m\u001b[0;34m.\u001b[0m\u001b[0mread_csv\u001b[0m\u001b[0;34m(\u001b[0m\u001b[0;34m\"../CCWA_result.csv\"\u001b[0m\u001b[0;34m)\u001b[0m\u001b[0;34m\u001b[0m\u001b[0m\n\u001b[0m",
      "\u001b[0;31mNameError\u001b[0m: name 'pd' is not defined"
     ]
    }
   ],
   "source": [
    "ccwa_df = pd.read_csv(\"../CCWA_result.csv\")"
   ]
  },
  {
   "cell_type": "code",
   "execution_count": 5,
   "metadata": {},
   "outputs": [
    {
     "ename": "NameError",
     "evalue": "name 'ccwa_df' is not defined",
     "output_type": "error",
     "traceback": [
      "\u001b[0;31m---------------------------------------------------------------------------\u001b[0m",
      "\u001b[0;31mNameError\u001b[0m                                 Traceback (most recent call last)",
      "\u001b[0;32m<ipython-input-5-8b8a4e1993be>\u001b[0m in \u001b[0;36m<module>\u001b[0;34m()\u001b[0m\n\u001b[0;32m----> 1\u001b[0;31m \u001b[0mccwa_df\u001b[0m\u001b[0;34m.\u001b[0m\u001b[0mdrop\u001b[0m\u001b[0;34m(\u001b[0m\u001b[0mcolumns\u001b[0m\u001b[0;34m=\u001b[0m\u001b[0;34m\"Unnamed: 0\"\u001b[0m\u001b[0;34m,\u001b[0m\u001b[0minplace\u001b[0m\u001b[0;34m=\u001b[0m\u001b[0mTrue\u001b[0m\u001b[0;34m)\u001b[0m\u001b[0;34m\u001b[0m\u001b[0m\n\u001b[0m",
      "\u001b[0;31mNameError\u001b[0m: name 'ccwa_df' is not defined"
     ]
    }
   ],
   "source": [
    "ccwa_df.drop(columns=\"Unnamed: 0\",inplace=True)"
   ]
  },
  {
   "cell_type": "markdown",
   "metadata": {},
   "source": [
    "### plotly works with trace and layouts. Make sure to see the plotly website's examples."
   ]
  },
  {
   "cell_type": "code",
   "execution_count": 6,
   "metadata": {},
   "outputs": [],
   "source": [
    "trace = go.Scatter(\n",
    "    x=[1,2,3],\n",
    "    y=[1,2,3],\n",
    "    name='jian',\n",
    "    mode='markers',\n",
    "    marker=dict(\n",
    "        color='red',\n",
    "    ),\n",
    "    opacity=0.9\n",
    ")\n",
    "data = [trace]\n",
    "\n",
    "layout = go.Layout(\n",
    "    title='Valor',\n",
    "    xaxis=dict(\n",
    "        title='x title'\n",
    "),\n",
    "yaxis=dict(\n",
    "    title='y title'\n",
    "),\n",
    "bargap=0.2,\n",
    "bargroupgap=0.1,\n",
    "paper_bgcolor='rgb(243, 243, 243)',\n",
    "plot_bgcolor='rgb(243, 243, 243)'\n",
    ")\n",
    "fig = go.Figure(data=data, layout=layout)"
   ]
  },
  {
   "cell_type": "code",
   "execution_count": 7,
   "metadata": {},
   "outputs": [
    {
     "data": {
      "application/vnd.plotly.v1+json": {
       "config": {
        "linkText": "Export to plot.ly",
        "plotlyServerURL": "https://plot.ly",
        "showLink": false
       },
       "data": [
        {
         "marker": {
          "color": "red"
         },
         "mode": "markers",
         "name": "jian",
         "opacity": 0.9,
         "type": "scatter",
         "uid": "adbcca59-3fe5-46ec-9e2c-02cc4464b76c",
         "x": [
          1,
          2,
          3
         ],
         "y": [
          1,
          2,
          3
         ]
        }
       ],
       "layout": {
        "bargap": 0.2,
        "bargroupgap": 0.1,
        "paper_bgcolor": "rgb(243, 243, 243)",
        "plot_bgcolor": "rgb(243, 243, 243)",
        "title": {
         "text": "Valor"
        },
        "xaxis": {
         "title": {
          "text": "x title"
         }
        },
        "yaxis": {
         "title": {
          "text": "y title"
         }
        }
       }
      },
      "text/html": [
       "<div id=\"d6bf7b95-e3c0-4929-ae56-5aade548021e\" style=\"height: 525px; width: 100%;\" class=\"plotly-graph-div\"></div><script type=\"text/javascript\">require([\"plotly\"], function(Plotly) { window.PLOTLYENV=window.PLOTLYENV || {};window.PLOTLYENV.BASE_URL=\"https://plot.ly\";\n",
       "if (document.getElementById(\"d6bf7b95-e3c0-4929-ae56-5aade548021e\")) {\n",
       "    Plotly.newPlot(\"d6bf7b95-e3c0-4929-ae56-5aade548021e\", [{\"opacity\": 0.9, \"name\": \"jian\", \"marker\": {\"color\": \"red\"}, \"mode\": \"markers\", \"y\": [1, 2, 3], \"x\": [1, 2, 3], \"type\": \"scatter\", \"uid\": \"adbcca59-3fe5-46ec-9e2c-02cc4464b76c\"}], {\"yaxis\": {\"title\": {\"text\": \"y title\"}}, \"paper_bgcolor\": \"rgb(243, 243, 243)\", \"plot_bgcolor\": \"rgb(243, 243, 243)\", \"title\": {\"text\": \"Valor\"}, \"bargap\": 0.2, \"xaxis\": {\"title\": {\"text\": \"x title\"}}, \"bargroupgap\": 0.1}, {\"plotlyServerURL\": \"https://plot.ly\", \"linkText\": \"Export to plot.ly\", \"showLink\": false}); \n",
       "}\n",
       "});</script><script type=\"text/javascript\">window.addEventListener(\"resize\", function(){if (document.getElementById(\"d6bf7b95-e3c0-4929-ae56-5aade548021e\")) {window._Plotly.Plots.resize(document.getElementById(\"d6bf7b95-e3c0-4929-ae56-5aade548021e\"));};})</script>"
      ],
      "text/vnd.plotly.v1+html": [
       "<div id=\"d6bf7b95-e3c0-4929-ae56-5aade548021e\" style=\"height: 525px; width: 100%;\" class=\"plotly-graph-div\"></div><script type=\"text/javascript\">require([\"plotly\"], function(Plotly) { window.PLOTLYENV=window.PLOTLYENV || {};window.PLOTLYENV.BASE_URL=\"https://plot.ly\";\n",
       "if (document.getElementById(\"d6bf7b95-e3c0-4929-ae56-5aade548021e\")) {\n",
       "    Plotly.newPlot(\"d6bf7b95-e3c0-4929-ae56-5aade548021e\", [{\"opacity\": 0.9, \"name\": \"jian\", \"marker\": {\"color\": \"red\"}, \"mode\": \"markers\", \"y\": [1, 2, 3], \"x\": [1, 2, 3], \"type\": \"scatter\", \"uid\": \"adbcca59-3fe5-46ec-9e2c-02cc4464b76c\"}], {\"yaxis\": {\"title\": {\"text\": \"y title\"}}, \"paper_bgcolor\": \"rgb(243, 243, 243)\", \"plot_bgcolor\": \"rgb(243, 243, 243)\", \"title\": {\"text\": \"Valor\"}, \"bargap\": 0.2, \"xaxis\": {\"title\": {\"text\": \"x title\"}}, \"bargroupgap\": 0.1}, {\"plotlyServerURL\": \"https://plot.ly\", \"linkText\": \"Export to plot.ly\", \"showLink\": false}); \n",
       "}\n",
       "});</script><script type=\"text/javascript\">window.addEventListener(\"resize\", function(){if (document.getElementById(\"d6bf7b95-e3c0-4929-ae56-5aade548021e\")) {window._Plotly.Plots.resize(document.getElementById(\"d6bf7b95-e3c0-4929-ae56-5aade548021e\"));};})</script>"
      ]
     },
     "metadata": {},
     "output_type": "display_data"
    }
   ],
   "source": [
    "iplot(fig)"
   ]
  },
  {
   "cell_type": "markdown",
   "metadata": {},
   "source": [
    "### create an embeddable file from your plot"
   ]
  },
  {
   "cell_type": "code",
   "execution_count": 8,
   "metadata": {},
   "outputs": [],
   "source": [
    "_div = plot(fig, include_plotlyjs=False, output_type='div')"
   ]
  },
  {
   "cell_type": "code",
   "execution_count": 9,
   "metadata": {},
   "outputs": [],
   "source": [
    "html_doc = '''<!DOCTYPE html>\n",
    "<html>\n",
    "<head>\n",
    "  <script src=\"https://cdn.plot.ly/plotly-latest.min.js\"></script>\n",
    "</head>\n",
    "\n",
    "<div>\n",
    "     <div style=\"display:flex\">\n",
    "     <h2><font color=\"blue\">Jian's Report</font></h2>\n",
    "     </div>\n",
    "</div>\n",
    "'''  \n",
    "        \n",
    "html_doc += '''<h5><a id=\"1\"></a>%(_div_title)s</h5> \n",
    "                      %(div)s\n",
    "                ''' % {'div':_div, '_div_title':'plot number 1'}\n",
    "\n",
    "        \n",
    "        \n",
    "html_doc += '''<hr>'''\n",
    "html_doc +='''</body>\n",
    "                  </html>'''"
   ]
  },
  {
   "cell_type": "code",
   "execution_count": 10,
   "metadata": {},
   "outputs": [],
   "source": [
    "with open('jians_report.html', 'w') as f:\n",
    "    f.write(html_doc)"
   ]
  },
  {
   "cell_type": "code",
   "execution_count": null,
   "metadata": {},
   "outputs": [],
   "source": []
  }
 ],
 "metadata": {
  "kernelspec": {
   "display_name": "Python 3",
   "language": "python",
   "name": "python3"
  },
  "language_info": {
   "codemirror_mode": {
    "name": "ipython",
    "version": 3
   },
   "file_extension": ".py",
   "mimetype": "text/x-python",
   "name": "python",
   "nbconvert_exporter": "python",
   "pygments_lexer": "ipython3",
   "version": "3.6.8"
  }
 },
 "nbformat": 4,
 "nbformat_minor": 2
}
