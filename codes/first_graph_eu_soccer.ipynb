{
 "cells": [
  {
   "cell_type": "code",
   "execution_count": 2,
   "metadata": {
    "ExecuteTime": {
     "end_time": "2019-05-06T21:06:34.764772Z",
     "start_time": "2019-05-06T21:06:33.775399Z"
    }
   },
   "outputs": [],
   "source": [
    "import sqlite3\n",
    "import pandas as pd\n",
    "import seaborn as sns\n",
    "import itertools\n",
    "import matplotlib.pyplot as plt\n",
    "import os\n",
    "\n",
    "import plotly.graph_objs as go\n",
    "import sys\n",
    "from plotly.offline import download_plotlyjs, init_notebook_mode, plot, iplot"
   ]
  },
  {
   "cell_type": "code",
   "execution_count": 3,
   "metadata": {
    "ExecuteTime": {
     "end_time": "2019-05-06T21:06:34.769325Z",
     "start_time": "2019-05-06T21:06:34.766288Z"
    }
   },
   "outputs": [
    {
     "data": {
      "text/html": [
       "        <script type=\"text/javascript\">\n",
       "        window.PlotlyConfig = {MathJaxConfig: 'local'};\n",
       "        if (window.MathJax) {MathJax.Hub.Config({SVG: {font: \"STIX-Web\"}});}\n",
       "        if (typeof require !== 'undefined') {\n",
       "        require.undef(\"plotly\");\n",
       "        requirejs.config({\n",
       "            paths: {\n",
       "                'plotly': ['https://cdn.plot.ly/plotly-latest.min']\n",
       "            }\n",
       "        });\n",
       "        require(['plotly'], function(Plotly) {\n",
       "            window._Plotly = Plotly;\n",
       "        });\n",
       "        }\n",
       "        </script>\n",
       "        "
      ]
     },
     "metadata": {},
     "output_type": "display_data"
    }
   ],
   "source": [
    "init_notebook_mode(connected=True)"
   ]
  },
  {
   "cell_type": "code",
   "execution_count": 4,
   "metadata": {
    "ExecuteTime": {
     "end_time": "2019-05-06T21:06:34.774100Z",
     "start_time": "2019-05-06T21:06:34.770851Z"
    }
   },
   "outputs": [],
   "source": [
    "# build connection for data from sqllite db\n",
    "path = \".\"\n",
    "database = os.path.join(path, 'database.sqlite')\n",
    "conn = sqlite3.connect(database)\n",
    "pd.set_option(\"display.max_columns\",100)"
   ]
  },
  {
   "cell_type": "markdown",
   "metadata": {},
   "source": [
    "The general information for this database.  \n",
    "## Understand the tables.  \n",
    "In match, there is a stage column, what is it?"
   ]
  },
  {
   "cell_type": "code",
   "execution_count": 5,
   "metadata": {
    "ExecuteTime": {
     "end_time": "2019-05-06T21:06:36.203227Z",
     "start_time": "2019-05-06T21:06:36.186116Z"
    }
   },
   "outputs": [
    {
     "data": {
      "text/html": [
       "<div>\n",
       "<style scoped>\n",
       "    .dataframe tbody tr th:only-of-type {\n",
       "        vertical-align: middle;\n",
       "    }\n",
       "\n",
       "    .dataframe tbody tr th {\n",
       "        vertical-align: top;\n",
       "    }\n",
       "\n",
       "    .dataframe thead th {\n",
       "        text-align: right;\n",
       "    }\n",
       "</style>\n",
       "<table border=\"1\" class=\"dataframe\">\n",
       "  <thead>\n",
       "    <tr style=\"text-align: right;\">\n",
       "      <th></th>\n",
       "      <th>type</th>\n",
       "      <th>name</th>\n",
       "      <th>tbl_name</th>\n",
       "      <th>rootpage</th>\n",
       "      <th>sql</th>\n",
       "    </tr>\n",
       "  </thead>\n",
       "  <tbody>\n",
       "    <tr>\n",
       "      <th>0</th>\n",
       "      <td>table</td>\n",
       "      <td>sqlite_sequence</td>\n",
       "      <td>sqlite_sequence</td>\n",
       "      <td>4</td>\n",
       "      <td>CREATE TABLE sqlite_sequence(name,seq)</td>\n",
       "    </tr>\n",
       "    <tr>\n",
       "      <th>1</th>\n",
       "      <td>table</td>\n",
       "      <td>Player_Attributes</td>\n",
       "      <td>Player_Attributes</td>\n",
       "      <td>11</td>\n",
       "      <td>CREATE TABLE \"Player_Attributes\" (\\n\\t`id`\\tIN...</td>\n",
       "    </tr>\n",
       "    <tr>\n",
       "      <th>2</th>\n",
       "      <td>table</td>\n",
       "      <td>Player</td>\n",
       "      <td>Player</td>\n",
       "      <td>14</td>\n",
       "      <td>CREATE TABLE `Player` (\\n\\t`id`\\tINTEGER PRIMA...</td>\n",
       "    </tr>\n",
       "    <tr>\n",
       "      <th>3</th>\n",
       "      <td>table</td>\n",
       "      <td>Match</td>\n",
       "      <td>Match</td>\n",
       "      <td>18</td>\n",
       "      <td>CREATE TABLE `Match` (\\n\\t`id`\\tINTEGER PRIMAR...</td>\n",
       "    </tr>\n",
       "    <tr>\n",
       "      <th>4</th>\n",
       "      <td>table</td>\n",
       "      <td>League</td>\n",
       "      <td>League</td>\n",
       "      <td>24</td>\n",
       "      <td>CREATE TABLE `League` (\\n\\t`id`\\tINTEGER PRIMA...</td>\n",
       "    </tr>\n",
       "    <tr>\n",
       "      <th>5</th>\n",
       "      <td>table</td>\n",
       "      <td>Country</td>\n",
       "      <td>Country</td>\n",
       "      <td>26</td>\n",
       "      <td>CREATE TABLE `Country` (\\n\\t`id`\\tINTEGER PRIM...</td>\n",
       "    </tr>\n",
       "    <tr>\n",
       "      <th>6</th>\n",
       "      <td>table</td>\n",
       "      <td>Team</td>\n",
       "      <td>Team</td>\n",
       "      <td>29</td>\n",
       "      <td>CREATE TABLE \"Team\" (\\n\\t`id`\\tINTEGER PRIMARY...</td>\n",
       "    </tr>\n",
       "    <tr>\n",
       "      <th>7</th>\n",
       "      <td>table</td>\n",
       "      <td>Team_Attributes</td>\n",
       "      <td>Team_Attributes</td>\n",
       "      <td>2</td>\n",
       "      <td>CREATE TABLE `Team_Attributes` (\\n\\t`id`\\tINTE...</td>\n",
       "    </tr>\n",
       "  </tbody>\n",
       "</table>\n",
       "</div>"
      ],
      "text/plain": [
       "    type               name           tbl_name  rootpage  \\\n",
       "0  table    sqlite_sequence    sqlite_sequence         4   \n",
       "1  table  Player_Attributes  Player_Attributes        11   \n",
       "2  table             Player             Player        14   \n",
       "3  table              Match              Match        18   \n",
       "4  table             League             League        24   \n",
       "5  table            Country            Country        26   \n",
       "6  table               Team               Team        29   \n",
       "7  table    Team_Attributes    Team_Attributes         2   \n",
       "\n",
       "                                                 sql  \n",
       "0             CREATE TABLE sqlite_sequence(name,seq)  \n",
       "1  CREATE TABLE \"Player_Attributes\" (\\n\\t`id`\\tIN...  \n",
       "2  CREATE TABLE `Player` (\\n\\t`id`\\tINTEGER PRIMA...  \n",
       "3  CREATE TABLE `Match` (\\n\\t`id`\\tINTEGER PRIMAR...  \n",
       "4  CREATE TABLE `League` (\\n\\t`id`\\tINTEGER PRIMA...  \n",
       "5  CREATE TABLE `Country` (\\n\\t`id`\\tINTEGER PRIM...  \n",
       "6  CREATE TABLE \"Team\" (\\n\\t`id`\\tINTEGER PRIMARY...  \n",
       "7  CREATE TABLE `Team_Attributes` (\\n\\t`id`\\tINTE...  "
      ]
     },
     "execution_count": 5,
     "metadata": {},
     "output_type": "execute_result"
    }
   ],
   "source": [
    "tables = pd.read_sql(\"\"\"SELECT *\n",
    "                        FROM sqlite_master\n",
    "                        WHERE type='table';\"\"\", conn)\n",
    "tables"
   ]
  },
  {
   "cell_type": "code",
   "execution_count": 6,
   "metadata": {
    "ExecuteTime": {
     "end_time": "2019-05-04T23:51:02.705040Z",
     "start_time": "2019-05-04T23:50:57.140794Z"
    }
   },
   "outputs": [],
   "source": [
    "# get Match table\n",
    "query = \"\"\"\n",
    "select * from Match ;\n",
    "\"\"\"\n",
    "match_df = pd.read_sql(query,conn)"
   ]
  },
  {
   "cell_type": "code",
   "execution_count": 39,
   "metadata": {
    "ExecuteTime": {
     "end_time": "2019-05-05T18:27:51.962582Z",
     "start_time": "2019-05-05T18:27:51.959630Z"
    }
   },
   "outputs": [],
   "source": [
    "# some constants\n",
    "season_ls = [\"2008/2009\",\"2009/2010\",\"2010/2011\",\"2011/2012\",\"2012/2013\",\"2013/2014\",\"2014/2015\",\"2015/2016\"]\n"
   ]
  },
  {
   "cell_type": "code",
   "execution_count": 110,
   "metadata": {
    "ExecuteTime": {
     "end_time": "2019-05-05T19:05:00.997956Z",
     "start_time": "2019-05-05T19:05:00.992403Z"
    }
   },
   "outputs": [],
   "source": [
    "# function to make goal difference on each season.\n",
    "def _goal_dif_season(season, match_df, period):\n",
    "    # get data for that season.\n",
    "    goal_dif = match_df[match_df.season==season][[\"home_team_goal\",\"away_team_goal\",\"date\"]]\n",
    "    # make new columns on date.\n",
    "    goal_dif[\"home_goal_dif\"] = goal_dif.home_team_goal - goal_dif.away_team_goal\n",
    "    goal_dif[\"my_date\"] = pd.to_datetime(goal_dif.date)\n",
    "    if period == \"dow\":\n",
    "        goal_dif[\"match_dow\"] = goal_dif.my_date.dt.day_name()\n",
    "        # get the goal dif on dow.\n",
    "        goal_dif_period = goal_dif.groupby(by=\"match_dow\").mean()[[\"home_goal_dif\",\"home_team_goal\",\"away_team_goal\"]]\n",
    "    elif period == 'month':\n",
    "        goal_dif[\"match_month\"] = goal_dif.my_date.dt.month\n",
    "        goal_dif_period = goal_dif.groupby(by=\"match_month\").mean()[[\"home_goal_dif\",\"home_team_goal\",\"away_team_goal\"]]\n",
    "    goal_dif_period.reset_index(inplace=True)\n",
    "    return goal_dif_period"
   ]
  },
  {
   "cell_type": "code",
   "execution_count": 176,
   "metadata": {
    "ExecuteTime": {
     "end_time": "2019-05-05T19:31:18.963030Z",
     "start_time": "2019-05-05T19:31:18.952193Z"
    }
   },
   "outputs": [],
   "source": [
    "# the drawing function to make goal difference on each season.\n",
    "def _draw_goal_dif(goal_dif, season, period):\n",
    "    # get index\n",
    "    if period == \"dow\":\n",
    "        colors = [\"#66CDAA\", \"#E3CF57\", \"#1C86EE\"]\n",
    "        order = [\"Monday\", \"Tuesday\", \"Wednesday\",\n",
    "                 \"Thursday\", \"Friday\", \"Saturday\", \"Sunday\"]\n",
    "        ind1 = [list(goal_dif.match_dow).index(i) for i in order]\n",
    "    elif period == \"month\":\n",
    "        # get colors list. [lightblue1,lightcyan2,lightgrey,chartreuse1,chartreuse3,\n",
    "        # darkgreen,cornflowerblue,aquamarine3, dodgerblue2, banana,darkorange,darkorange3]\n",
    "        colors = [\"#BFEFFF\", \"#D1EEEE\", \"#D3D3D3\", \"#6495ED\", \"#66CD00\",\n",
    "                  \"#006400\", \"#66CDAA\", \"#1C86EE\", \"#E3CF57\", \"#FF8C00\", \"#CD6600\"]\n",
    "        order = list(range(1, 6)) + list(range(7,13))\n",
    "        ind1 = [list(goal_dif.match_month).index(i) for i in order]\n",
    "    line_colours = [\"#DC143C\",\"#1C86EE\",\"#006400\"]\n",
    "    # build traces\n",
    "    data = []\n",
    "    cols = [\"home_goal_dif\", \"home_team_goal\", \"away_team_goal\"]\n",
    "    names = [\"Home Goals - Away Goals\", \"Home Goals\", \"Away Goals\"]\n",
    "    for ind, col_name in enumerate(cols):\n",
    "        trace = go.Scatter(\n",
    "            x=order,\n",
    "            y=goal_dif[col_name][ind1],\n",
    "            name=names[ind],\n",
    "            text=[\"Mean goal difference:\"+str(round(i,2))\n",
    "                  for i in goal_dif[col_name]],\n",
    "            marker=dict(\n",
    "                color=line_colours[ind],\n",
    "                line=dict(\n",
    "                    color=line_colours[ind],\n",
    "                    width=1.5,\n",
    "                )\n",
    "            ),\n",
    "            opacity=1\n",
    "        )\n",
    "        data.append(trace)\n",
    "    layout = go.Layout(\n",
    "        title=\"The average goal difference in season %s per %s.\" % (\n",
    "            season, period),\n",
    "        xaxis=dict(\n",
    "            title=period\n",
    "        ),\n",
    "        yaxis=dict(\n",
    "            title='Goal Differences'\n",
    "        ),\n",
    "        bargap=0.2,\n",
    "        bargroupgap=0.1,\n",
    "        paper_bgcolor='rgb(243, 243, 243)',\n",
    "        plot_bgcolor='rgb(243, 243, 243)'\n",
    "    )\n",
    "    fig1 = go.Figure(data=data, layout=layout)\n",
    "    return fig1"
   ]
  },
  {
   "cell_type": "code",
   "execution_count": 184,
   "metadata": {
    "ExecuteTime": {
     "end_time": "2019-05-05T19:47:17.656387Z",
     "start_time": "2019-05-05T19:47:17.653282Z"
    }
   },
   "outputs": [],
   "source": [
    "res = []"
   ]
  },
  {
   "cell_type": "code",
   "execution_count": 185,
   "metadata": {
    "ExecuteTime": {
     "end_time": "2019-05-05T19:47:22.725600Z",
     "start_time": "2019-05-05T19:47:19.305132Z"
    }
   },
   "outputs": [],
   "source": [
    "for season in season_ls:\n",
    "    goal_dif_dow = _goal_dif_season(season, match_df, \"dow\")\n",
    "    fig1 = _draw_goal_dif(goal_dif_dow,season,\"dow\")\n",
    "    # put graph into html file.\n",
    "    _div = plot(fig1, include_plotlyjs=False, output_type='div')\n",
    "    res.append((_div,season))"
   ]
  },
  {
   "cell_type": "code",
   "execution_count": 186,
   "metadata": {
    "ExecuteTime": {
     "end_time": "2019-05-05T19:47:22.730245Z",
     "start_time": "2019-05-05T19:47:22.727202Z"
    }
   },
   "outputs": [],
   "source": [
    "# write html file.\n",
    "\n",
    "html_doc = '''<!DOCTYPE html>\n",
    "<html>\n",
    "<head>\n",
    "  <script src=\"https://cdn.plot.ly/plotly-latest.min.js\"></script>\n",
    "</head>\n",
    "\n",
    "<div>\n",
    "     <div style=\"display:flex\">\n",
    "     <h2><font color=\"black\">European Soccer Data Visualization</font></h2>\n",
    "     </div>\n",
    "</div>\n",
    "'''  \n",
    "for i in res:\n",
    "    html_doc += '''<h5><a id=\"1\"></a>%(_div_title)s</h5> \n",
    "                      %(div)s\n",
    "                ''' % {'div':i[0], '_div_title':i[1]}\n",
    "\n",
    "        \n",
    "        \n",
    "html_doc += '''<hr>'''\n",
    "html_doc +='''</body>\n",
    "                  </html>'''\n"
   ]
  },
  {
   "cell_type": "code",
   "execution_count": 187,
   "metadata": {
    "ExecuteTime": {
     "end_time": "2019-05-05T19:47:26.875220Z",
     "start_time": "2019-05-05T19:47:26.872078Z"
    }
   },
   "outputs": [],
   "source": [
    "with open('EU_soccer_data_viz_dow.html', 'w') as f:\n",
    "    f.write(html_doc)"
   ]
  },
  {
   "cell_type": "code",
   "execution_count": 188,
   "metadata": {
    "ExecuteTime": {
     "end_time": "2019-05-05T19:47:31.600473Z",
     "start_time": "2019-05-05T19:47:31.410547Z"
    }
   },
   "outputs": [],
   "source": [
    "!open EU_soccer_data_viz_dow.html"
   ]
  }
 ],
 "metadata": {
  "kernelspec": {
   "display_name": "Python 3",
   "language": "python",
   "name": "python3"
  },
  "language_info": {
   "codemirror_mode": {
    "name": "ipython",
    "version": 3
   },
   "file_extension": ".py",
   "mimetype": "text/x-python",
   "name": "python",
   "nbconvert_exporter": "python",
   "pygments_lexer": "ipython3",
   "version": "3.6.8"
  }
 },
 "nbformat": 4,
 "nbformat_minor": 2
}
